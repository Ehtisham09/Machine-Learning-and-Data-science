{
 "cells": [
  {
   "cell_type": "markdown",
   "metadata": {},
   "source": [
    "# Linear Regression"
   ]
  },
  {
   "cell_type": "markdown",
   "metadata": {},
   "source": [
    "In this Tutotrial i have show you how to find the best fit line and the accuracy of the best fit line."
   ]
  },
  {
   "cell_type": "code",
   "execution_count": 1,
   "metadata": {},
   "outputs": [],
   "source": [
    "\n",
    "from statistics import mean\n"
   ]
  },
  {
   "cell_type": "code",
   "execution_count": 2,
   "metadata": {},
   "outputs": [],
   "source": [
    "import numpy as np"
   ]
  },
  {
   "cell_type": "code",
   "execution_count": 8,
   "metadata": {},
   "outputs": [],
   "source": [
    "\n",
    "import matplotlib.pyplot as plt\n",
    "from matplotlib import style\n",
    "style.use('fivethirtyeight')\n"
   ]
  },
  {
   "cell_type": "code",
   "execution_count": 4,
   "metadata": {},
   "outputs": [],
   "source": [
    "xs = np.array([1,2,3,4,5,6],dtype = np.float64)\n",
    "ys = np.array([5,4,6,5,6,7],dtype=np.float64)"
   ]
  },
  {
   "cell_type": "code",
   "execution_count": 13,
   "metadata": {},
   "outputs": [],
   "source": [
    "def best_fit_slope(xs,ys):\n",
    "    m=(((mean(xs)*mean(ys))-mean(xs*ys))/\n",
    "       ((mean(xs)*mean(xs))-mean(xs*xs)))\n",
    "\n",
    "    b=mean(ys)-m*mean(xs)\n",
    "    return m,b\n",
    "def squared_error(ys_orig,ys_line):\n",
    "    return sum((ys_line-ys_orig)**2)\n",
    "\n",
    "\n",
    "def cofficient_of_determination(ys_orig,ys_line):\n",
    "    y_mean_line = [mean(ys_orig)for y in ys_orig]\n",
    "    squared_error_regr = squared_error(ys_orig,ys_line)\n",
    "    squared_error_ymean= squared_error(ys_orig,y_mean_line)\n",
    "    return 1 - (squared_error_regr/squared_error_ymean)"
   ]
  },
  {
   "cell_type": "code",
   "execution_count": 16,
   "metadata": {},
   "outputs": [
    {
     "name": "stdout",
     "output_type": "stream",
     "text": [
      "0.42857142857142866\n",
      "This is the value of the accuracy of the best fit line 0.5844155844155845\n"
     ]
    }
   ],
   "source": [
    "m,b = best_fit_slope(xs,ys)\n",
    "regression_line =[(m*x)+b for x in xs]\n",
    "predict_x=8\n",
    "predict_y= (m*predict_x+b)\n",
    "print(m)\n",
    "r_squared = cofficient_of_determination(ys,regression_line)\n",
    "print(\"This is the value of the accuracy of the best fit line\",r_squared)"
   ]
  },
  {
   "cell_type": "code",
   "execution_count": 11,
   "metadata": {},
   "outputs": [
    {
     "data": {
      "image/png": "[encoded data removed]",
      "text/plain": [
       "<Figure size 432x288 with 1 Axes>"
      ]
     },
     "metadata": {},
     "output_type": "display_data"
    }
   ],
   "source": [
    "plt.scatter(xs,ys)\n",
    "plt.scatter(predict_x,predict_y)\n",
    "plt.plot(xs,regression_line)\n",
    "plt.show()"
   ]
  },
  {
   "cell_type": "code",
   "execution_count": null,
   "metadata": {},
   "outputs": [],
   "source": []
  }
 ],
 "metadata": {
  "kernelspec": {
   "display_name": "Python 3",
   "language": "python",
   "name": "python3"
  },
  "language_info": {
   "codemirror_mode": {
    "name": "ipython",
    "version": 3
   },
   "file_extension": ".py",
   "mimetype": "text/x-python",
   "name": "python",
   "nbconvert_exporter": "python",
   "pygments_lexer": "ipython3",
   "version": "3.7.3"
  }
 },
 "nbformat": 4,
 "nbformat_minor": 2
}
